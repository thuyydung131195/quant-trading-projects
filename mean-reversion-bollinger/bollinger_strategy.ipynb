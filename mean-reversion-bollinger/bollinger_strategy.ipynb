# Bollinger Bands Backtest - SPY

import yfinance as yf
import pandas as pd
import matplotlib.pyplot as plt

# Load data
symbol = 'SPY'
df = yf.download(symbol, start="2020-01-01", end="2024-12-31")
df = df.copy()
df.columns = df.columns.get_level_values(0)

# Calculate Bollinger Bands
window = 20
df['MA20'] = df['Close'].rolling(window).mean()
df['STD20'] = df['Close'].rolling(window).std()
df['Upper'] = df['MA20'] + 2 * df['STD20']
df['Lower'] = df['MA20'] - 2 * df['STD20']

# Bỏ các dòng NaN do rolling
df.dropna(inplace=True)
df.reset_index(drop=True, inplace=True)

# Logic tín hiệu
df['position'] = 0
df.loc[df['Close'] < df['Lower'], 'position'] = 1
df.loc[df['Close'] > df['Upper'], 'position'] = 0
df['position'] = df['position'].ffill().fillna(0)

# Lợi nhuận
df['returns'] = df['Close'].pct_change()
df['strategy_returns'] = df['position'].shift(1) * df['returns']

# Tích lũy lợi nhuận
df['cumulative_market'] = (1 + df['returns']).cumprod()
df['cumulative_strategy'] = (1 + df['strategy_returns']).cumprod()

# Biểu đồ
plt.figure(figsize=(12,6))
plt.plot(df['cumulative_market'], label='SPY Buy & Hold')
plt.plot(df['cumulative_strategy'], label='Bollinger Strategy')
plt.legend()
plt.title('Strategy vs Market')
plt.show()

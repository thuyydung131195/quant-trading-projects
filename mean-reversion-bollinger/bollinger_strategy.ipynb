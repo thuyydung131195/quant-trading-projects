# Bollinger Bands Backtest - SPY

import yfinance as yf
import pandas as pd
import matplotlib.pyplot as plt

# Load data
symbol = 'SPY'
df = yf.download(symbol, start="2020-01-01", end="2024-12-31")

# Calculate Bollinger Bands
window = 20
df['MA20'] = df['Close'].rolling(window).mean()
df['STD20'] = df['Close'].rolling(window).std()
df['Upper'] = df['MA20'] + 2 * df['STD20']
df['Lower'] = df['MA20'] - 2 * df['STD20']

# Plot
plt.figure(figsize=(12,6))
plt.plot(df['Close'], label='Price')
plt.plot(df['Upper'], label='Upper Band', linestyle='--')
plt.plot(df['Lower'], label='Lower Band', linestyle='--')
plt.plot(df['MA20'], label='MA20')
plt.title('Bollinger Bands on SPY')
plt.legend()
plt.show()

